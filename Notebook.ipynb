{
 "cells": [
  {
   "cell_type": "code",
   "execution_count": 1,
   "id": "ca157481",
   "metadata": {},
   "outputs": [
    {
     "name": "stdout",
     "output_type": "stream",
     "text": [
      "Requirement already satisfied: pandas==1.4.2 in c:\\users\\yourh\\appdata\\local\\programs\\python\\python310\\lib\\site-packages (1.4.2)\n",
      "Requirement already satisfied: scipy==1.8.1 in c:\\users\\yourh\\appdata\\local\\programs\\python\\python310\\lib\\site-packages (1.8.1)\n",
      "Requirement already satisfied: scikit-learn==1.1.1 in c:\\users\\yourh\\appdata\\local\\programs\\python\\python310\\lib\\site-packages (1.1.1)\n",
      "Requirement already satisfied: numpy==1.22.4 in c:\\users\\yourh\\appdata\\local\\programs\\python\\python310\\lib\\site-packages (1.22.4)\n",
      "Requirement already satisfied: pytz>=2020.1 in c:\\users\\yourh\\appdata\\local\\programs\\python\\python310\\lib\\site-packages (from pandas==1.4.2) (2022.1)\n",
      "Requirement already satisfied: python-dateutil>=2.8.1 in c:\\users\\yourh\\appdata\\local\\programs\\python\\python310\\lib\\site-packages (from pandas==1.4.2) (2.8.2)\n",
      "Requirement already satisfied: joblib>=1.0.0 in c:\\users\\yourh\\appdata\\local\\programs\\python\\python310\\lib\\site-packages (from scikit-learn==1.1.1) (1.1.0)\n",
      "Requirement already satisfied: threadpoolctl>=2.0.0 in c:\\users\\yourh\\appdata\\local\\programs\\python\\python310\\lib\\site-packages (from scikit-learn==1.1.1) (3.1.0)\n",
      "Requirement already satisfied: six>=1.5 in c:\\users\\yourh\\appdata\\local\\programs\\python\\python310\\lib\\site-packages (from python-dateutil>=2.8.1->pandas==1.4.2) (1.16.0)\n"
     ]
    },
    {
     "name": "stderr",
     "output_type": "stream",
     "text": [
      "WARNING: You are using pip version 22.0.4; however, version 22.1.2 is available.\n",
      "You should consider upgrading via the 'C:\\Users\\yourh\\AppData\\Local\\Programs\\Python\\Python310\\python.exe -m pip install --upgrade pip' command.\n"
     ]
    }
   ],
   "source": [
    "!pip install pandas==1.4.2 scipy==1.8.1 scikit-learn==1.1.1 numpy==1.22.4 "
   ]
  },
  {
   "cell_type": "code",
   "execution_count": 2,
   "id": "106a646f",
   "metadata": {},
   "outputs": [],
   "source": [
    "import scipy as sp\n",
    "import pandas as pd\n",
    "import numpy as np\n",
    "import sklearn as sk"
   ]
  },
  {
   "cell_type": "code",
   "execution_count": 5,
   "id": "616ca9aa",
   "metadata": {},
   "outputs": [],
   "source": [
    "df = pd.read_csv(\"train.csv\", index_col=0)"
   ]
  },
  {
   "cell_type": "code",
   "execution_count": 6,
   "id": "88319674",
   "metadata": {},
   "outputs": [],
   "source": [
    "#Kendall’s tau is a correlation measure for ordinal data.\n",
    "#scipy.stats.kendalltau(x, y, initial_lexsort=True)\n",
    "#input x, y arrays of rankings, of the same shape. If arrays are not 1-D, they will be flattened to 1-D.\n",
    "\n",
    "#Variables:\n",
    "#survived,sex\n",
    "#survived,siblings\n",
    "#survived,parents\n",
    "#survived,Embarked"
   ]
  },
  {
   "cell_type": "code",
   "execution_count": 7,
   "id": "4f8e90eb",
   "metadata": {},
   "outputs": [],
   "source": [
    "#The point biserial correlation is used to measure the relationship between a binary variable and a continuous variable.\n",
    "#scipy.stats.pointbiserialr(x, y)\n",
    "#input binary variable, x, and a continuous variable, y\n",
    "\n",
    "#Variables:\n",
    "#survived,age\n",
    "#survived,fare"
   ]
  },
  {
   "cell_type": "code",
   "execution_count": 12,
   "id": "d937194c",
   "metadata": {},
   "outputs": [
    {
     "name": "stdout",
     "output_type": "stream",
     "text": [
      "-0.5433513806577551\n"
     ]
    }
   ],
   "source": [
    "# Sex\n",
    "survived = df[\"Survived\"].to_numpy()\n",
    "sex = df[\"Sex\"].to_numpy()\n",
    "sex_corr = sp.stats.kendalltau(survived,sex)\n",
    "print(sex_corr.correlation)"
   ]
  },
  {
   "cell_type": "code",
   "execution_count": 13,
   "id": "50325d55",
   "metadata": {},
   "outputs": [
    {
     "name": "stdout",
     "output_type": "stream",
     "text": [
      "0.08591509091074537\n"
     ]
    }
   ],
   "source": [
    "# of siblings / spouses aboard the Titanic\t\n",
    "survived = df[\"Survived\"].to_numpy()\n",
    "sibsp = df[\"SibSp\"].to_numpy()\n",
    "sibsp_corr = sp.stats.kendalltau(survived,sibsp)\n",
    "print(sibsp_corr.correlation)"
   ]
  },
  {
   "cell_type": "code",
   "execution_count": 14,
   "id": "1e32a50e",
   "metadata": {},
   "outputs": [
    {
     "name": "stdout",
     "output_type": "stream",
     "text": [
      "0.42524079737045145\n"
     ]
    }
   ],
   "source": [
    "# of parents / children aboard the Titanic\n",
    "survived = df[\"Survived\"].to_numpy()\n",
    "parch = df[\"Parch\"].to_numpy()\n",
    "parch_corr = sp.stats.kendalltau(parch,sibsp)\n",
    "print(parch_corr.correlation)"
   ]
  },
  {
   "cell_type": "code",
   "execution_count": 18,
   "id": "52467a62",
   "metadata": {},
   "outputs": [
    {
     "name": "stdout",
     "output_type": "stream",
     "text": [
      "-0.15779501104311747\n"
     ]
    }
   ],
   "source": [
    "# Port of Embarkation\n",
    "clean_df = df.dropna(subset=['Survived','Embarked'])\n",
    "survived = clean_df[\"Survived\"].to_numpy()\n",
    "embarked = clean_df[\"Embarked\"].to_numpy()\n",
    "embarked_corr = sp.stats.kendalltau(survived,embarked)\n",
    "print(embarked_corr.correlation)"
   ]
  },
  {
   "cell_type": "code",
   "execution_count": 21,
   "id": "4b91a5fa",
   "metadata": {},
   "outputs": [
    {
     "name": "stdout",
     "output_type": "stream",
     "text": [
      "-0.07722109457217767\n"
     ]
    }
   ],
   "source": [
    "# Age\n",
    "clean_df = df.dropna(subset=['Survived','Age'])\n",
    "survived = clean_df[\"Survived\"].to_numpy()\n",
    "age = clean_df[\"Age\"].to_numpy()\n",
    "age_corr = sp.stats.pointbiserialr(survived,age)\n",
    "print(age_corr.correlation)"
   ]
  },
  {
   "cell_type": "code",
   "execution_count": 22,
   "id": "caeb9d3d",
   "metadata": {},
   "outputs": [
    {
     "name": "stdout",
     "output_type": "stream",
     "text": [
      "0.2681886168744787\n"
     ]
    }
   ],
   "source": [
    "# Fare\n",
    "survived = clean_df[\"Survived\"].to_numpy()\n",
    "fare = clean_df[\"Fare\"].to_numpy()\n",
    "fare_corr = sp.stats.pointbiserialr(survived,fare)\n",
    "print(fare_corr.correlation)"
   ]
  },
  {
   "cell_type": "code",
   "execution_count": null,
   "id": "80173d74",
   "metadata": {},
   "outputs": [],
   "source": []
  }
 ],
 "metadata": {
  "kernelspec": {
   "display_name": "Python 3 (ipykernel)",
   "language": "python",
   "name": "python3"
  },
  "language_info": {
   "codemirror_mode": {
    "name": "ipython",
    "version": 3
   },
   "file_extension": ".py",
   "mimetype": "text/x-python",
   "name": "python",
   "nbconvert_exporter": "python",
   "pygments_lexer": "ipython3",
   "version": "3.10.4"
  }
 },
 "nbformat": 4,
 "nbformat_minor": 5
}
