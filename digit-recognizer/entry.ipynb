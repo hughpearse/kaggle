{
 "cells": [
  {
   "cell_type": "code",
   "execution_count": 19,
   "metadata": {},
   "outputs": [],
   "source": [
    "from tensorflow.keras.datasets import mnist\n",
    "import autokeras as ak\n",
    "import pandas as pd\n",
    "from sklearn.model_selection import train_test_split\n",
    "import numpy as np"
   ]
  },
  {
   "cell_type": "code",
   "execution_count": 14,
   "metadata": {},
   "outputs": [],
   "source": [
    "# Load the data\n",
    "train = pd.read_csv(\"./data/train.csv\")\n",
    "test = pd.read_csv(\"./data/test.csv\")\n",
    "\n",
    "# Assign X and Y from training data\n",
    "X_train = train.drop(labels = [\"label\"],axis = 1) \n",
    "Y_train = train[\"label\"]\n",
    "\n",
    "# Split training / validation\n",
    "X_train, X_valid, y_train, y_valid = train_test_split(X_train, Y_train, train_size=0.75, test_size=0.25)\n",
    "X_train = X_train.values.reshape(-1,28,28,1)\n",
    "X_valid = X_valid.values.reshape(-1,28,28,1)\n",
    "test = test.values.reshape(-1,28,28,1)"
   ]
  },
  {
   "cell_type": "code",
   "execution_count": 9,
   "metadata": {},
   "outputs": [
    {
     "name": "stdout",
     "output_type": "stream",
     "text": [
      "INFO:tensorflow:Reloading Oracle from existing project ./image_classifier/oracle.json\n",
      "INFO:tensorflow:Reloading Tuner from ./image_classifier/tuner0.json\n",
      "INFO:tensorflow:Oracle triggered exit\n",
      "Epoch 1/10\n",
      "985/985 [==============================] - 43s 43ms/step - loss: 0.4776 - accuracy: 0.8646\n",
      "Epoch 2/10\n",
      "985/985 [==============================] - 40s 41ms/step - loss: 0.1070 - accuracy: 0.9684\n",
      "Epoch 3/10\n",
      "985/985 [==============================] - 44s 45ms/step - loss: 0.0729 - accuracy: 0.9770\n",
      "Epoch 4/10\n",
      "985/985 [==============================] - 43s 44ms/step - loss: 0.0600 - accuracy: 0.9815\n",
      "Epoch 5/10\n",
      "985/985 [==============================] - 44s 44ms/step - loss: 0.0479 - accuracy: 0.9845\n",
      "Epoch 6/10\n",
      "985/985 [==============================] - 43s 44ms/step - loss: 0.0418 - accuracy: 0.9869\n",
      "Epoch 7/10\n",
      "985/985 [==============================] - 44s 44ms/step - loss: 0.0341 - accuracy: 0.9887\n",
      "Epoch 8/10\n",
      "985/985 [==============================] - 44s 45ms/step - loss: 0.0314 - accuracy: 0.9900\n",
      "Epoch 9/10\n",
      "985/985 [==============================] - 45s 46ms/step - loss: 0.0290 - accuracy: 0.9906\n",
      "Epoch 10/10\n",
      "985/985 [==============================] - 44s 45ms/step - loss: 0.0258 - accuracy: 0.9915\n"
     ]
    }
   ],
   "source": [
    "# Initialize the ImageClassifier.\n",
    "clf = ak.ImageClassifier(max_trials=1)\n",
    "# Search for the best model.\n",
    "clf.fit(X_train, y_train, epochs=10)"
   ]
  },
  {
   "cell_type": "code",
   "execution_count": 13,
   "metadata": {},
   "outputs": [
    {
     "name": "stdout",
     "output_type": "stream",
     "text": [
      "329/329 [==============================] - 2s 7ms/step - loss: 0.0239 - accuracy: 0.9932\n",
      "Accuracy: [0.023886404931545258, 0.993238091468811]\n"
     ]
    }
   ],
   "source": [
    "# Evaluate on the testing data.\n",
    "print('Accuracy: {accuracy}'.format(accuracy=clf.evaluate(X_valid, y_valid)))"
   ]
  },
  {
   "cell_type": "code",
   "execution_count": 26,
   "metadata": {},
   "outputs": [
    {
     "name": "stdout",
     "output_type": "stream",
     "text": [
      "WARNING:tensorflow:Unresolved object in checkpoint: (root).optimizer.iter\n",
      "WARNING:tensorflow:Unresolved object in checkpoint: (root).optimizer.beta_1\n",
      "WARNING:tensorflow:Unresolved object in checkpoint: (root).optimizer.beta_2\n",
      "WARNING:tensorflow:Unresolved object in checkpoint: (root).optimizer.decay\n",
      "WARNING:tensorflow:Unresolved object in checkpoint: (root).optimizer.learning_rate\n",
      "WARNING:tensorflow:A checkpoint was restored (e.g. tf.train.Checkpoint.restore or tf.keras.Model.load_weights) but not all checkpointed values were used. See above for specific issues. Use expect_partial() on the load status object, e.g. tf.train.Checkpoint.restore(...).expect_partial(), to silence these warnings, or use assert_consumed() to make the check explicit. See https://www.tensorflow.org/guide/checkpoint#loading_mechanics for details.\n"
     ]
    }
   ],
   "source": [
    "# predict results\n",
    "results = clf.predict(test)\n",
    "results = results.reshape(-1)"
   ]
  },
  {
   "cell_type": "code",
   "execution_count": 27,
   "metadata": {},
   "outputs": [],
   "source": [
    "results = pd.Series(results,name=\"Label\")\n",
    "submission = pd.concat([pd.Series(range(1,28001),name = \"ImageId\"),results],axis = 1)\n",
    "submission.to_csv(\"my_submission.csv\",index=False)"
   ]
  },
  {
   "cell_type": "code",
   "execution_count": null,
   "metadata": {},
   "outputs": [],
   "source": []
  }
 ],
 "metadata": {
  "kernelspec": {
   "display_name": "sandbox",
   "language": "python",
   "name": "sandbox"
  },
  "language_info": {
   "codemirror_mode": {
    "name": "ipython",
    "version": 3
   },
   "file_extension": ".py",
   "mimetype": "text/x-python",
   "name": "python",
   "nbconvert_exporter": "python",
   "pygments_lexer": "ipython3",
   "version": "3.6.8"
  }
 },
 "nbformat": 4,
 "nbformat_minor": 2
}
