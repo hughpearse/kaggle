{
 "cells": [
  {
   "cell_type": "code",
   "execution_count": 1,
   "metadata": {},
   "outputs": [],
   "source": [
    "from tensorflow.keras.datasets import mnist\n",
    "import autokeras as ak\n",
    "import pandas as pd\n",
    "from sklearn.model_selection import train_test_split\n",
    "import numpy as np"
   ]
  },
  {
   "cell_type": "code",
   "execution_count": 2,
   "metadata": {},
   "outputs": [],
   "source": [
    "# Load the data\n",
    "train = pd.read_csv(\"./data/train.csv\")\n",
    "test = pd.read_csv(\"./data/test.csv\")\n",
    "\n",
    "# Assign X and Y from training data\n",
    "X_train = train.drop(labels = [\"label\"],axis = 1) \n",
    "y_train = train[\"label\"].values\n",
    "\n",
    "X_train = X_train.values.reshape(-1,28,28,1)\n",
    "test = test.values.reshape(-1,28,28,1)"
   ]
  },
  {
   "cell_type": "code",
   "execution_count": 3,
   "metadata": {},
   "outputs": [
    {
     "name": "stdout",
     "output_type": "stream",
     "text": [
      "Trial 1 Complete [00h 09m 18s]\n",
      "val_loss: 0.04329565912485123\n",
      "\n",
      "Best val_loss So Far: 0.04329565912485123\n",
      "Total elapsed time: 00h 09m 18s\n",
      "INFO:tensorflow:Oracle triggered exit\n",
      "Epoch 1/10\n",
      "1313/1313 [==============================] - 61s 46ms/step - loss: 0.1766 - accuracy: 0.9462\n",
      "Epoch 2/10\n",
      "1313/1313 [==============================] - 65s 49ms/step - loss: 0.0779 - accuracy: 0.9763\n",
      "Epoch 3/10\n",
      "1313/1313 [==============================] - 65s 50ms/step - loss: 0.0622 - accuracy: 0.9805\n",
      "Epoch 4/10\n",
      "1313/1313 [==============================] - 67s 51ms/step - loss: 0.0527 - accuracy: 0.9830\n",
      "Epoch 5/10\n",
      "1313/1313 [==============================] - 64s 49ms/step - loss: 0.0469 - accuracy: 0.9848\n",
      "Epoch 6/10\n",
      "1313/1313 [==============================] - 65s 50ms/step - loss: 0.0411 - accuracy: 0.9865\n",
      "Epoch 7/10\n",
      "1313/1313 [==============================] - 66s 50ms/step - loss: 0.0397 - accuracy: 0.9868\n",
      "Epoch 8/10\n",
      "1313/1313 [==============================] - 65s 49ms/step - loss: 0.0355 - accuracy: 0.9884\n",
      "Epoch 9/10\n",
      "1313/1313 [==============================] - 65s 50ms/step - loss: 0.0343 - accuracy: 0.9890\n",
      "Epoch 10/10\n",
      "1313/1313 [==============================] - 66s 50ms/step - loss: 0.0314 - accuracy: 0.9903\n"
     ]
    }
   ],
   "source": [
    "# Initialize the ImageClassifier.\n",
    "clf = ak.ImageClassifier(max_trials=1)\n",
    "# Search for the best model.\n",
    "clf.fit(X_train, y_train, epochs=10)"
   ]
  },
  {
   "cell_type": "code",
   "execution_count": 4,
   "metadata": {},
   "outputs": [],
   "source": [
    "# predict results\n",
    "results = clf.predict(test)\n",
    "results = results.reshape(-1)"
   ]
  },
  {
   "cell_type": "code",
   "execution_count": 5,
   "metadata": {},
   "outputs": [],
   "source": [
    "# Write to file\n",
    "results = pd.Series(results,name=\"Label\")\n",
    "submission = pd.concat([pd.Series(range(1,28001),name = \"ImageId\"),results],axis = 1)\n",
    "submission.to_csv(\"my_submission.csv\",index=False)"
   ]
  },
  {
   "cell_type": "code",
   "execution_count": null,
   "metadata": {},
   "outputs": [],
   "source": []
  }
 ],
 "metadata": {
  "kernelspec": {
   "display_name": "sandbox",
   "language": "python",
   "name": "sandbox"
  },
  "language_info": {
   "codemirror_mode": {
    "name": "ipython",
    "version": 3
   },
   "file_extension": ".py",
   "mimetype": "text/x-python",
   "name": "python",
   "nbconvert_exporter": "python",
   "pygments_lexer": "ipython3",
   "version": "3.6.8"
  }
 },
 "nbformat": 4,
 "nbformat_minor": 2
}
