{
 "cells": [
  {
   "cell_type": "code",
   "execution_count": 3,
   "metadata": {},
   "outputs": [],
   "source": [
    "import numpy as np\n",
    "from tensorflow import keras\n",
    "from tensorflow.keras import layers\n",
    "import pandas as pd"
   ]
  },
  {
   "cell_type": "code",
   "execution_count": 23,
   "metadata": {},
   "outputs": [],
   "source": [
    "# Load the data\n",
    "train = pd.read_csv(\"./data/train.csv\")\n",
    "test = pd.read_csv(\"./data/test.csv\")\n",
    "\n",
    "# Assign X and Y from training data\n",
    "X_train = train.drop(labels = [\"label\"],axis = 1) \n",
    "y_train = train[\"label\"].values\n",
    "\n",
    "# Normalize the data for better performance\n",
    "X_train = X_train / 255.0\n",
    "test = test / 255.0\n",
    "\n",
    "# Reshape image in 3 dimensions (height = 28px, width = 28px , canal = 1)\n",
    "X_train = X_train.values.reshape(-1,28,28,1)\n",
    "test = test.values.reshape(-1,28,28,1)\n",
    "\n",
    "# Model / data parameters\n",
    "num_classes = 10\n",
    "input_shape = (28, 28, 1)\n",
    "\n",
    "# convert class vectors to binary class matrices\n",
    "y_train = keras.utils.to_categorical(y_train, num_classes)"
   ]
  },
  {
   "cell_type": "code",
   "execution_count": 24,
   "metadata": {},
   "outputs": [
    {
     "name": "stdout",
     "output_type": "stream",
     "text": [
      "Model: \"sequential_2\"\n",
      "_________________________________________________________________\n",
      "Layer (type)                 Output Shape              Param #   \n",
      "=================================================================\n",
      "conv2d_6 (Conv2D)            (None, 26, 26, 32)        320       \n",
      "_________________________________________________________________\n",
      "max_pooling2d_6 (MaxPooling2 (None, 13, 13, 32)        0         \n",
      "_________________________________________________________________\n",
      "conv2d_7 (Conv2D)            (None, 11, 11, 64)        18496     \n",
      "_________________________________________________________________\n",
      "max_pooling2d_7 (MaxPooling2 (None, 5, 5, 64)          0         \n",
      "_________________________________________________________________\n",
      "flatten_3 (Flatten)          (None, 1600)              0         \n",
      "_________________________________________________________________\n",
      "dropout_3 (Dropout)          (None, 1600)              0         \n",
      "_________________________________________________________________\n",
      "dense_2 (Dense)              (None, 10)                16010     \n",
      "=================================================================\n",
      "Total params: 34,826\n",
      "Trainable params: 34,826\n",
      "Non-trainable params: 0\n",
      "_________________________________________________________________\n"
     ]
    }
   ],
   "source": [
    "model = keras.Sequential(\n",
    "    [\n",
    "        keras.Input(shape=input_shape),\n",
    "        layers.Conv2D(32, kernel_size=(3, 3), activation=\"relu\"),\n",
    "        layers.MaxPooling2D(pool_size=(2, 2)),\n",
    "        layers.Conv2D(64, kernel_size=(3, 3), activation=\"relu\"),\n",
    "        layers.MaxPooling2D(pool_size=(2, 2)),\n",
    "        layers.Flatten(),\n",
    "        layers.Dropout(0.5),\n",
    "        layers.Dense(num_classes, activation=\"softmax\"),\n",
    "    ]\n",
    ")\n",
    "\n",
    "model.summary()"
   ]
  },
  {
   "cell_type": "code",
   "execution_count": 27,
   "metadata": {},
   "outputs": [
    {
     "name": "stdout",
     "output_type": "stream",
     "text": [
      "Epoch 1/20\n",
      "296/296 [==============================] - 14s 48ms/step - loss: 0.0937 - accuracy: 0.9708 - val_loss: 0.0575 - val_accuracy: 0.9814\n",
      "Epoch 2/20\n",
      "296/296 [==============================] - 16s 53ms/step - loss: 0.0774 - accuracy: 0.9758 - val_loss: 0.0513 - val_accuracy: 0.9848\n",
      "Epoch 3/20\n",
      "296/296 [==============================] - 15s 49ms/step - loss: 0.0633 - accuracy: 0.9804 - val_loss: 0.0470 - val_accuracy: 0.9850\n",
      "Epoch 4/20\n",
      "296/296 [==============================] - 16s 55ms/step - loss: 0.0588 - accuracy: 0.9819 - val_loss: 0.0395 - val_accuracy: 0.9871\n",
      "Epoch 5/20\n",
      "296/296 [==============================] - 16s 56ms/step - loss: 0.0523 - accuracy: 0.9836 - val_loss: 0.0411 - val_accuracy: 0.9874\n",
      "Epoch 6/20\n",
      "296/296 [==============================] - 15s 50ms/step - loss: 0.0466 - accuracy: 0.9856 - val_loss: 0.0402 - val_accuracy: 0.9871\n",
      "Epoch 7/20\n",
      "296/296 [==============================] - 15s 50ms/step - loss: 0.0469 - accuracy: 0.9849 - val_loss: 0.0342 - val_accuracy: 0.9893\n",
      "Epoch 8/20\n",
      "296/296 [==============================] - 17s 58ms/step - loss: 0.0443 - accuracy: 0.9853 - val_loss: 0.0324 - val_accuracy: 0.9905\n",
      "Epoch 9/20\n",
      "296/296 [==============================] - 17s 57ms/step - loss: 0.0395 - accuracy: 0.9873 - val_loss: 0.0329 - val_accuracy: 0.9905\n",
      "Epoch 10/20\n",
      "296/296 [==============================] - 14s 49ms/step - loss: 0.0388 - accuracy: 0.9876 - val_loss: 0.0338 - val_accuracy: 0.9898\n",
      "Epoch 11/20\n",
      "296/296 [==============================] - 17s 59ms/step - loss: 0.0362 - accuracy: 0.9882 - val_loss: 0.0317 - val_accuracy: 0.9905\n",
      "Epoch 12/20\n",
      "296/296 [==============================] - 17s 57ms/step - loss: 0.0345 - accuracy: 0.9884 - val_loss: 0.0296 - val_accuracy: 0.9910\n",
      "Epoch 13/20\n",
      "296/296 [==============================] - 14s 48ms/step - loss: 0.0351 - accuracy: 0.9885 - val_loss: 0.0290 - val_accuracy: 0.9914\n",
      "Epoch 14/20\n",
      "296/296 [==============================] - 16s 53ms/step - loss: 0.0323 - accuracy: 0.9897 - val_loss: 0.0289 - val_accuracy: 0.9921\n",
      "Epoch 15/20\n",
      "296/296 [==============================] - 15s 51ms/step - loss: 0.0307 - accuracy: 0.9896 - val_loss: 0.0329 - val_accuracy: 0.9890\n",
      "Epoch 16/20\n",
      "296/296 [==============================] - 15s 49ms/step - loss: 0.0296 - accuracy: 0.9900 - val_loss: 0.0297 - val_accuracy: 0.9907\n",
      "Epoch 17/20\n",
      "296/296 [==============================] - 17s 58ms/step - loss: 0.0301 - accuracy: 0.9906 - val_loss: 0.0284 - val_accuracy: 0.9919\n",
      "Epoch 18/20\n",
      "296/296 [==============================] - 15s 50ms/step - loss: 0.0270 - accuracy: 0.9913 - val_loss: 0.0288 - val_accuracy: 0.9919\n",
      "Epoch 19/20\n",
      "296/296 [==============================] - 17s 58ms/step - loss: 0.0265 - accuracy: 0.9912 - val_loss: 0.0285 - val_accuracy: 0.9917\n",
      "Epoch 20/20\n",
      "296/296 [==============================] - 17s 58ms/step - loss: 0.0279 - accuracy: 0.9906 - val_loss: 0.0271 - val_accuracy: 0.9929\n"
     ]
    },
    {
     "data": {
      "text/plain": [
       "<tensorflow.python.keras.callbacks.History at 0x14a89ea58>"
      ]
     },
     "execution_count": 27,
     "metadata": {},
     "output_type": "execute_result"
    }
   ],
   "source": [
    "batch_size = 128\n",
    "epochs = 20\n",
    "\n",
    "model.compile(loss=\"categorical_crossentropy\", optimizer=\"adam\", metrics=[\"accuracy\"])\n",
    "\n",
    "model.fit(X_train, y_train, batch_size=batch_size, epochs=epochs, validation_split=0.1)"
   ]
  },
  {
   "cell_type": "code",
   "execution_count": 28,
   "metadata": {},
   "outputs": [],
   "source": [
    "# predict results\n",
    "results = model.predict(test)\n",
    "\n",
    "# select the indix with the maximum probability\n",
    "results = np.argmax(results,axis = 1)\n",
    "\n",
    "results = pd.Series(results,name=\"Label\")\n",
    "submission = pd.concat([pd.Series(range(1,28001),name = \"ImageId\"),results],axis = 1)\n",
    "\n",
    "submission.to_csv(\"cnn_mnist_datagen.csv\",index=False)"
   ]
  },
  {
   "cell_type": "code",
   "execution_count": null,
   "metadata": {},
   "outputs": [],
   "source": []
  }
 ],
 "metadata": {
  "kernelspec": {
   "display_name": "sandbox",
   "language": "python",
   "name": "sandbox"
  },
  "language_info": {
   "codemirror_mode": {
    "name": "ipython",
    "version": 3
   },
   "file_extension": ".py",
   "mimetype": "text/x-python",
   "name": "python",
   "nbconvert_exporter": "python",
   "pygments_lexer": "ipython3",
   "version": "3.6.8"
  }
 },
 "nbformat": 4,
 "nbformat_minor": 2
}
