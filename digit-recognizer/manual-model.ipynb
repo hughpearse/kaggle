{
 "cells": [
  {
   "cell_type": "code",
   "execution_count": 3,
   "metadata": {},
   "outputs": [],
   "source": [
    "import numpy as np\n",
    "from tensorflow import keras\n",
    "from tensorflow.keras import layers\n",
    "import pandas as pd"
   ]
  },
  {
   "cell_type": "code",
   "execution_count": 23,
   "metadata": {},
   "outputs": [],
   "source": [
    "# Load the data\n",
    "train = pd.read_csv(\"./data/train.csv\")\n",
    "test = pd.read_csv(\"./data/test.csv\")\n",
    "\n",
    "# Assign X and Y from training data\n",
    "X_train = train.drop(labels = [\"label\"],axis = 1) \n",
    "y_train = train[\"label\"].values\n",
    "\n",
    "# Normalize the data for better performance\n",
    "X_train = X_train / 255.0\n",
    "test = test / 255.0\n",
    "\n",
    "# Reshape image in 3 dimensions (height = 28px, width = 28px , canal = 1)\n",
    "X_train = X_train.values.reshape(-1,28,28,1)\n",
    "test = test.values.reshape(-1,28,28,1)\n",
    "\n",
    "# Model / data parameters\n",
    "num_classes = 10\n",
    "input_shape = (28, 28, 1)\n",
    "\n",
    "# convert class vectors to binary class matrices\n",
    "y_train = keras.utils.to_categorical(y_train, num_classes)"
   ]
  },
  {
   "cell_type": "code",
   "execution_count": 38,
   "metadata": {},
   "outputs": [
    {
     "name": "stdout",
     "output_type": "stream",
     "text": [
      "Model: \"sequential_10\"\n",
      "_________________________________________________________________\n",
      "Layer (type)                 Output Shape              Param #   \n",
      "=================================================================\n",
      "conv2d_29 (Conv2D)           (None, 26, 26, 32)        320       \n",
      "_________________________________________________________________\n",
      "max_pooling2d_29 (MaxPooling (None, 13, 13, 32)        0         \n",
      "_________________________________________________________________\n",
      "conv2d_30 (Conv2D)           (None, 11, 11, 64)        18496     \n",
      "_________________________________________________________________\n",
      "max_pooling2d_30 (MaxPooling (None, 5, 5, 64)          0         \n",
      "_________________________________________________________________\n",
      "conv2d_31 (Conv2D)           (None, 2, 2, 64)          65600     \n",
      "_________________________________________________________________\n",
      "max_pooling2d_31 (MaxPooling (None, 1, 1, 64)          0         \n",
      "_________________________________________________________________\n",
      "flatten_11 (Flatten)         (None, 64)                0         \n",
      "_________________________________________________________________\n",
      "dropout_11 (Dropout)         (None, 64)                0         \n",
      "_________________________________________________________________\n",
      "dense_10 (Dense)             (None, 10)                650       \n",
      "=================================================================\n",
      "Total params: 85,066\n",
      "Trainable params: 85,066\n",
      "Non-trainable params: 0\n",
      "_________________________________________________________________\n"
     ]
    }
   ],
   "source": [
    "model = keras.Sequential(\n",
    "    [\n",
    "        keras.Input(shape=input_shape),\n",
    "        layers.Conv2D(32, kernel_size=(3, 3), activation=\"relu\"),\n",
    "        layers.MaxPooling2D(pool_size=(2, 2)),\n",
    "        layers.Conv2D(64, kernel_size=(3, 3), activation=\"relu\"),\n",
    "        layers.MaxPooling2D(pool_size=(2, 2)),\n",
    "        layers.Flatten(),\n",
    "        layers.Dropout(0.25),\n",
    "        layers.Dense(num_classes, activation=\"softmax\"),\n",
    "    ]\n",
    ")\n",
    "\n",
    "model.summary()"
   ]
  },
  {
   "cell_type": "code",
   "execution_count": 40,
   "metadata": {},
   "outputs": [
    {
     "name": "stdout",
     "output_type": "stream",
     "text": [
      "Epoch 1/20\n",
      "252/252 [==============================] - 16s 64ms/step - loss: 0.1238 - accuracy: 0.9630 - val_loss: 0.0596 - val_accuracy: 0.9829\n",
      "Epoch 2/20\n",
      "252/252 [==============================] - 16s 63ms/step - loss: 0.0910 - accuracy: 0.9735 - val_loss: 0.0437 - val_accuracy: 0.9869\n",
      "Epoch 3/20\n",
      "252/252 [==============================] - 16s 64ms/step - loss: 0.0799 - accuracy: 0.9757 - val_loss: 0.0384 - val_accuracy: 0.9881\n",
      "Epoch 4/20\n",
      "252/252 [==============================] - 17s 68ms/step - loss: 0.0659 - accuracy: 0.9808 - val_loss: 0.0357 - val_accuracy: 0.9895\n",
      "Epoch 5/20\n",
      "252/252 [==============================] - 17s 67ms/step - loss: 0.0602 - accuracy: 0.9812 - val_loss: 0.0378 - val_accuracy: 0.9886\n",
      "Epoch 6/20\n",
      "252/252 [==============================] - 17s 68ms/step - loss: 0.0502 - accuracy: 0.9852 - val_loss: 0.0352 - val_accuracy: 0.9883\n",
      "Epoch 7/20\n",
      "252/252 [==============================] - 17s 67ms/step - loss: 0.0469 - accuracy: 0.9858 - val_loss: 0.0327 - val_accuracy: 0.9905\n",
      "Epoch 8/20\n",
      "252/252 [==============================] - 18s 72ms/step - loss: 0.0425 - accuracy: 0.9861 - val_loss: 0.0320 - val_accuracy: 0.9900\n",
      "Epoch 9/20\n",
      "252/252 [==============================] - 17s 67ms/step - loss: 0.0375 - accuracy: 0.9885 - val_loss: 0.0339 - val_accuracy: 0.9902\n",
      "Epoch 10/20\n",
      "252/252 [==============================] - 17s 67ms/step - loss: 0.0349 - accuracy: 0.9891 - val_loss: 0.0259 - val_accuracy: 0.9912\n",
      "Epoch 11/20\n",
      "252/252 [==============================] - 17s 68ms/step - loss: 0.0348 - accuracy: 0.9889 - val_loss: 0.0299 - val_accuracy: 0.9914\n",
      "Epoch 12/20\n",
      "252/252 [==============================] - 17s 69ms/step - loss: 0.0303 - accuracy: 0.9903 - val_loss: 0.0284 - val_accuracy: 0.9919\n",
      "Epoch 13/20\n",
      "252/252 [==============================] - 17s 66ms/step - loss: 0.0277 - accuracy: 0.9911 - val_loss: 0.0286 - val_accuracy: 0.9902\n",
      "Epoch 14/20\n",
      "252/252 [==============================] - 17s 67ms/step - loss: 0.0265 - accuracy: 0.9920 - val_loss: 0.0296 - val_accuracy: 0.9914\n",
      "Epoch 15/20\n",
      "252/252 [==============================] - 17s 66ms/step - loss: 0.0249 - accuracy: 0.9919 - val_loss: 0.0296 - val_accuracy: 0.9914\n",
      "Epoch 16/20\n",
      "252/252 [==============================] - 16s 62ms/step - loss: 0.0219 - accuracy: 0.9929 - val_loss: 0.0269 - val_accuracy: 0.9902\n",
      "Epoch 17/20\n",
      "252/252 [==============================] - 16s 62ms/step - loss: 0.0234 - accuracy: 0.9924 - val_loss: 0.0326 - val_accuracy: 0.9900\n",
      "Epoch 18/20\n",
      "252/252 [==============================] - 16s 62ms/step - loss: 0.0225 - accuracy: 0.9930 - val_loss: 0.0255 - val_accuracy: 0.9919\n",
      "Epoch 19/20\n",
      "252/252 [==============================] - 16s 62ms/step - loss: 0.0192 - accuracy: 0.9943 - val_loss: 0.0250 - val_accuracy: 0.9926\n",
      "Epoch 20/20\n",
      "252/252 [==============================] - 17s 66ms/step - loss: 0.0174 - accuracy: 0.9940 - val_loss: 0.0255 - val_accuracy: 0.9931\n"
     ]
    },
    {
     "data": {
      "text/plain": [
       "<tensorflow.python.keras.callbacks.History at 0x14cc7ff60>"
      ]
     },
     "execution_count": 40,
     "metadata": {},
     "output_type": "execute_result"
    }
   ],
   "source": [
    "batch_size = 150\n",
    "epochs = 20\n",
    "\n",
    "model.compile(loss=\"categorical_crossentropy\", optimizer=\"adam\", metrics=[\"accuracy\"])\n",
    "\n",
    "model.fit(X_train, y_train, batch_size=batch_size, epochs=epochs, validation_split=0.1)"
   ]
  },
  {
   "cell_type": "code",
   "execution_count": 41,
   "metadata": {},
   "outputs": [],
   "source": [
    "# predict results\n",
    "results = model.predict(test)\n",
    "\n",
    "# select the indix with the maximum probability\n",
    "results = np.argmax(results,axis = 1)\n",
    "\n",
    "results = pd.Series(results,name=\"Label\")\n",
    "submission = pd.concat([pd.Series(range(1,28001),name = \"ImageId\"),results],axis = 1)\n",
    "\n",
    "submission.to_csv(\"cnn_mnist_datagen.csv\",index=False)"
   ]
  },
  {
   "cell_type": "code",
   "execution_count": null,
   "metadata": {},
   "outputs": [],
   "source": []
  }
 ],
 "metadata": {
  "kernelspec": {
   "display_name": "sandbox",
   "language": "python",
   "name": "sandbox"
  },
  "language_info": {
   "codemirror_mode": {
    "name": "ipython",
    "version": 3
   },
   "file_extension": ".py",
   "mimetype": "text/x-python",
   "name": "python",
   "nbconvert_exporter": "python",
   "pygments_lexer": "ipython3",
   "version": "3.6.8"
  }
 },
 "nbformat": 4,
 "nbformat_minor": 2
}
