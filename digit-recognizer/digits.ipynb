{
 "cells": [
  {
   "cell_type": "code",
   "execution_count": 1,
   "metadata": {
    "colab": {},
    "colab_type": "code",
    "id": "wrQfA8v8peIP"
   },
   "outputs": [],
   "source": [
    "from tensorflow.keras.datasets import mnist\n",
    "import autokeras as ak"
   ]
  },
  {
   "cell_type": "code",
   "execution_count": 2,
   "metadata": {},
   "outputs": [],
   "source": [
    "# Python 3.6 tensorflow keras SSL workaround, not needed in newer versions\n",
    "import requests\n",
    "requests.packages.urllib3.disable_warnings()\n",
    "import ssl\n",
    "\n",
    "try:\n",
    "    _create_unverified_https_context = ssl._create_unverified_context\n",
    "except AttributeError:\n",
    "    # Legacy Python that doesn't verify HTTPS certificates by default\n",
    "    pass\n",
    "else:\n",
    "    # Handle target environment that doesn't support HTTPS verification\n",
    "    ssl._create_default_https_context = _create_unverified_https_context"
   ]
  },
  {
   "cell_type": "code",
   "execution_count": 3,
   "metadata": {
    "colab": {
     "base_uri": "https://localhost:8080/",
     "height": 104
    },
    "colab_type": "code",
    "id": "Cd_5Xtuqpmpm",
    "outputId": "ac587219-8455-496d-d875-63ab03267ff2"
   },
   "outputs": [
    {
     "name": "stdout",
     "output_type": "stream",
     "text": [
      "(60000, 28, 28)\n",
      "(60000,)\n",
      "[5 0 4]\n"
     ]
    }
   ],
   "source": [
    "# Prepare the dataset.\n",
    "(x_train, y_train), (x_test, y_test) = mnist.load_data()\n",
    "print(x_train.shape)  # (60000, 28, 28)\n",
    "print(y_train.shape)  # (60000,)\n",
    "print(y_train[:3])  # array([7, 2, 1], dtype=uint8)"
   ]
  },
  {
   "cell_type": "code",
   "execution_count": null,
   "metadata": {
    "colab": {
     "base_uri": "https://localhost:8080/",
     "height": 555
    },
    "colab_type": "code",
    "id": "PGASvRn6poKp",
    "outputId": "5b7342ac-8442-418d-b414-c059ecad0fbd"
   },
   "outputs": [
    {
     "name": "stdout",
     "output_type": "stream",
     "text": [
      "INFO:tensorflow:Reloading Oracle from existing project ./image_classifier/oracle.json\n",
      "INFO:tensorflow:Reloading Tuner from ./image_classifier/tuner0.json\n",
      "\n",
      "Search: Running Trial #1\n",
      "\n",
      "Hyperparameter      |Value     |Best Value So Far   \n",
      "image_block_1/block_type|resnet    |vanilla             \n",
      "image_block_1/normalize|True      |True                \n",
      "image_block_1/augment|True      |False               \n",
      "image_block_1/image_augmentation_1/horizontal_flip|True      |None                \n",
      "image_block_1/image_augmentation_1/vertical_flip|False     |None                \n",
      "image_block_1/image_augmentation_1/contrast_factor|0.0       |None                \n",
      "image_block_1/image_augmentation_1/rotation_factor|0.0       |None                \n",
      "image_block_1/image_augmentation_1/translation_factor|0.1       |None                \n",
      "image_block_1/image_augmentation_1/zoom_factor|0.0       |None                \n",
      "image_block_1/res_net_block_1/pretrained|True      |None                \n",
      "image_block_1/res_net_block_1/version|resnet50  |None                \n",
      "image_block_1/res_net_block_1/trainable|True      |None                \n",
      "image_block_1/res_net_block_1/imagenet_size|True      |None                \n",
      "classification_head_1/spatial_reduction_1/reduction_type|global_avg|flatten             \n",
      "classification_head_1/dropout|0         |0.5                 \n",
      "optimizer           |adam      |adam                \n",
      "learning_rate       |1e-05     |0.001               \n",
      "\n",
      "Epoch 1/10\n",
      "  81/1500 [>.............................] - ETA: 3:26:49 - loss: 1.5954 - accuracy: 0.5089"
     ]
    }
   ],
   "source": [
    "# Initialize the ImageClassifier.\n",
    "clf = ak.ImageClassifier(max_trials=1)\n",
    "# Search for the best model.\n",
    "clf.fit(x_train, y_train, epochs=10)"
   ]
  },
  {
   "cell_type": "code",
   "execution_count": null,
   "metadata": {
    "colab": {},
    "colab_type": "code",
    "id": "rRHY9Q-Kpq_L"
   },
   "outputs": [],
   "source": [
    "# Evaluate on the testing data.\n",
    "print('Accuracy: {accuracy}'.format(\n",
    "    accuracy=clf.evaluate(x_test, y_test)))"
   ]
  }
 ],
 "metadata": {
  "colab": {
   "name": "digits.ipynb",
   "provenance": []
  },
  "kernelspec": {
   "display_name": "sandbox",
   "language": "python",
   "name": "sandbox"
  },
  "language_info": {
   "codemirror_mode": {
    "name": "ipython",
    "version": 3
   },
   "file_extension": ".py",
   "mimetype": "text/x-python",
   "name": "python",
   "nbconvert_exporter": "python",
   "pygments_lexer": "ipython3",
   "version": "3.6.8"
  }
 },
 "nbformat": 4,
 "nbformat_minor": 1
}
