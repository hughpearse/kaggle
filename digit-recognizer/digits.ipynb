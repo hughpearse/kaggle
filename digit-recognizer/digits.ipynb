{
 "cells": [
  {
   "cell_type": "code",
   "execution_count": 1,
   "metadata": {
    "colab": {},
    "colab_type": "code",
    "id": "wrQfA8v8peIP"
   },
   "outputs": [],
   "source": [
    "from tensorflow.keras.datasets import mnist\n",
    "import autokeras as ak"
   ]
  },
  {
   "cell_type": "code",
   "execution_count": 7,
   "metadata": {},
   "outputs": [],
   "source": [
    "import requests\n",
    "requests.packages.urllib3.disable_warnings()\n",
    "import ssl\n",
    "\n",
    "try:\n",
    "    _create_unverified_https_context = ssl._create_unverified_context\n",
    "except AttributeError:\n",
    "    # Legacy Python that doesn't verify HTTPS certificates by default\n",
    "    pass\n",
    "else:\n",
    "    # Handle target environment that doesn't support HTTPS verification\n",
    "    ssl._create_default_https_context = _create_unverified_https_context"
   ]
  },
  {
   "cell_type": "code",
   "execution_count": 8,
   "metadata": {
    "colab": {
     "base_uri": "https://localhost:8080/",
     "height": 104
    },
    "colab_type": "code",
    "id": "Cd_5Xtuqpmpm",
    "outputId": "ac587219-8455-496d-d875-63ab03267ff2"
   },
   "outputs": [
    {
     "name": "stdout",
     "output_type": "stream",
     "text": [
      "Downloading data from https://storage.googleapis.com/tensorflow/tf-keras-datasets/mnist.npz\n",
      "11493376/11490434 [==============================] - 1s 0us/step\n",
      "(60000, 28, 28)\n",
      "(60000,)\n",
      "[5 0 4]\n"
     ]
    }
   ],
   "source": [
    "# Prepare the dataset.\n",
    "(x_train, y_train), (x_test, y_test) = mnist.load_data()\n",
    "print(x_train.shape)  # (60000, 28, 28)\n",
    "print(y_train.shape)  # (60000,)\n",
    "print(y_train[:3])  # array([7, 2, 1], dtype=uint8)"
   ]
  },
  {
   "cell_type": "code",
   "execution_count": null,
   "metadata": {
    "colab": {
     "base_uri": "https://localhost:8080/",
     "height": 555
    },
    "colab_type": "code",
    "id": "PGASvRn6poKp",
    "outputId": "5b7342ac-8442-418d-b414-c059ecad0fbd"
   },
   "outputs": [
    {
     "name": "stdout",
     "output_type": "stream",
     "text": [
      "Trial 1 Complete [00h 23m 58s]\n",
      "val_loss: 0.0419795848429203\n",
      "\n",
      "Best val_loss So Far: 0.0419795848429203\n",
      "Total elapsed time: 00h 23m 58s\n",
      "Downloading data from https://storage.googleapis.com/tensorflow/keras-applications/resnet/resnet50_weights_tf_dim_ordering_tf_kernels_notop.h5\n",
      "94773248/94765736 [==============================] - 1s 0us/step\n",
      "\n",
      "Search: Running Trial #2\n",
      "\n",
      "Hyperparameter      |Value     |Best Value So Far   \n",
      "image_block_1/block_type|resnet    |vanilla             \n",
      "image_block_1/normalize|True      |True                \n",
      "image_block_1/augment|True      |False               \n",
      "image_block_1/image_augmentation_1/horizontal_flip|True      |None                \n",
      "image_block_1/image_augmentation_1/vertical_flip|False     |None                \n",
      "image_block_1/image_augmentation_1/contrast_factor|0.0       |None                \n",
      "image_block_1/image_augmentation_1/rotation_factor|0.0       |None                \n",
      "image_block_1/image_augmentation_1/translation_factor|0.1       |None                \n",
      "image_block_1/image_augmentation_1/zoom_factor|0.0       |None                \n",
      "image_block_1/res_net_block_1/pretrained|True      |None                \n",
      "image_block_1/res_net_block_1/version|resnet50  |None                \n",
      "image_block_1/res_net_block_1/trainable|True      |None                \n",
      "image_block_1/res_net_block_1/imagenet_size|True      |None                \n",
      "classification_head_1/spatial_reduction_1/reduction_type|global_avg|flatten             \n",
      "classification_head_1/dropout|0         |0.5                 \n",
      "optimizer           |adam      |adam                \n",
      "learning_rate       |1e-05     |0.001               \n",
      "\n",
      "Epoch 1/10\n",
      "  23/1500 [..............................] - ETA: 8:42:14 - loss: 2.1283 - accuracy: 0.2337"
     ]
    }
   ],
   "source": [
    "# Initialize the ImageClassifier.\n",
    "clf = ak.ImageClassifier(max_trials=3)\n",
    "# Search for the best model.\n",
    "clf.fit(x_train, y_train, epochs=10)"
   ]
  },
  {
   "cell_type": "code",
   "execution_count": null,
   "metadata": {
    "colab": {},
    "colab_type": "code",
    "id": "rRHY9Q-Kpq_L"
   },
   "outputs": [],
   "source": [
    "# Evaluate on the testing data.\n",
    "print('Accuracy: {accuracy}'.format(\n",
    "    accuracy=clf.evaluate(x_test, y_test)))"
   ]
  }
 ],
 "metadata": {
  "colab": {
   "name": "digits.ipynb",
   "provenance": []
  },
  "kernelspec": {
   "display_name": "sandbox",
   "language": "python",
   "name": "sandbox"
  },
  "language_info": {
   "codemirror_mode": {
    "name": "ipython",
    "version": 3
   },
   "file_extension": ".py",
   "mimetype": "text/x-python",
   "name": "python",
   "nbconvert_exporter": "python",
   "pygments_lexer": "ipython3",
   "version": "3.6.8"
  }
 },
 "nbformat": 4,
 "nbformat_minor": 1
}
